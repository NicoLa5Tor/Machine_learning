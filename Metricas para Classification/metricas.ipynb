{
 "cells": [
  {
   "cell_type": "code",
   "execution_count": 10,
   "metadata": {},
   "outputs": [],
   "source": [
    "import numpy as np\n",
    "from sklearn.datasets import load_iris"
   ]
  },
  {
   "cell_type": "code",
   "execution_count": 21,
   "metadata": {},
   "outputs": [],
   "source": [
    "def load_dataset():\n",
    "    iris = load_iris()\n",
    "    x = iris.data\n",
    "    y = iris.target\n",
    "    return x,y\n"
   ]
  },
  {
   "cell_type": "code",
   "execution_count": 17,
   "metadata": {},
   "outputs": [],
   "source": [
    "def predict_ramdomly(x_size,num_class = 3,seed = 30):\n",
    "    np.random.seed(seed=seed)\n",
    "    return np.random.randint(num_class,size=x_size)\n"
   ]
  },
  {
   "cell_type": "code",
   "execution_count": 25,
   "metadata": {},
   "outputs": [],
   "source": [
    "def compute_confusion_matrix(y_true,y_pred):\n",
    "    num_class = len(np.unique(y_true))\n",
    "    confusion_matrix = np.zeros((num_class,num_class))\n",
    "    for true_l, pred_l in zip(y_true,y_pred):\n",
    "        confusion_matrix[true_l][pred_l] += 1\n",
    "    return confusion_matrix\n"
   ]
  },
  {
   "cell_type": "code",
   "execution_count": 28,
   "metadata": {},
   "outputs": [],
   "source": [
    "def compute_precision(confision_matrix):\n",
    "    tp = np.diag(confision_matrix)\n",
    "    fp  =np.sum(confision_matrix, axis= 0) - tp\n",
    "    precision = np.mean(tp/(tp+fp))\n",
    "    return precision\n",
    "def compute_recall(confusion_m):\n",
    "    tp = np.diag(confusion_m)\n",
    "    fn = np.sum(confusion_m,axis=1) - tp\n",
    "    recall = np.mean(tp/(tp+fn))\n",
    "    return recall\n"
   ]
  },
  {
   "cell_type": "code",
   "execution_count": 30,
   "metadata": {},
   "outputs": [
    {
     "name": "stdout",
     "output_type": "stream",
     "text": [
      "0.3351493660004298\n",
      "0.3333333333333333\n"
     ]
    }
   ],
   "source": [
    "x , y = load_dataset()\n",
    "y_pred = predict_ramdomly(x_size=x.shape[0])\n",
    "confision_m = compute_confusion_matrix(y, y_pred)\n",
    "precision = compute_precision(confision_m)\n",
    "recall = compute_recall(confision_m)\n",
    "print(precision)\n",
    "print(recall)"
   ]
  }
 ],
 "metadata": {
  "kernelspec": {
   "display_name": "Python 3",
   "language": "python",
   "name": "python3"
  },
  "language_info": {
   "codemirror_mode": {
    "name": "ipython",
    "version": 3
   },
   "file_extension": ".py",
   "mimetype": "text/x-python",
   "name": "python",
   "nbconvert_exporter": "python",
   "pygments_lexer": "ipython3",
   "version": "3.11.9"
  }
 },
 "nbformat": 4,
 "nbformat_minor": 2
}
