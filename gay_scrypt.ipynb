{
 "cells": [
  {
   "cell_type": "code",
   "execution_count": 32,
   "metadata": {},
   "outputs": [],
   "source": [
    "import pandas as pd\n",
    "import smtplib\n",
    "from email.message import EmailMessage\n",
    "\n"
   ]
  },
  {
   "cell_type": "code",
   "execution_count": 29,
   "metadata": {},
   "outputs": [
    {
     "name": "stdout",
     "output_type": "stream",
     "text": [
      "Sede\n",
      "FACATATIVA         INGENIERIA AMBIENTAL\n",
      "FACATATIVA         INGENIERIA AMBIENTAL\n",
      "FACATATIVA         INGENIERIA AMBIENTAL\n",
      "FACATATIVA    ADMINSTRACION DE EMPRESAS\n",
      "FACATATIVA    ADMINSTRACION DE EMPRESAS\n",
      "                        ...            \n",
      "FUSAGASUGA                          NaN\n",
      "FUSAGASUGA                          NaN\n",
      "FUSAGASUGA                          NaN\n",
      "FUSAGASUGA                          NaN\n",
      "FUSAGASUGA                          NaN\n",
      "Name: programa cadi, Length: 55826, dtype: object\n",
      "Sede\n",
      "FACATATIVA    jmanuelparrado@ucundinamarca.edu.co\n",
      "FACATATIVA    jmanuelparrado@ucundinamarca.edu.co\n",
      "FUSAGASUGA            esoler@ucundinamarca.edu.co\n",
      "FUSAGASUGA            esoler@ucundinamarca.edu.co\n",
      "FACATATIVA           fecasas@ucundinamarca.edu.co\n",
      "                             ...                 \n",
      "UBATE             plancheros@ucundinamarca.edu.co\n",
      "UBATE             plancheros@ucundinamarca.edu.co\n",
      "UBATE             plancheros@ucundinamarca.edu.co\n",
      "UBATE             plancheros@ucundinamarca.edu.co\n",
      "UBATE             plancheros@ucundinamarca.edu.co\n",
      "Name: Correo, Length: 8012, dtype: object\n"
     ]
    }
   ],
   "source": [
    "data = pd.read_excel('/home/nicolasrodrigeztorres04/Documents/machine_Learning*2/datasets/Ingresos_Sem1.xlsx',index_col=0)\n",
    "#print(data['programa cadi'])\n",
    "dat_faca = data['']\n",
    "dat_sistemas = data['programa cadi'] == 'INGENIERIA DE SISTEMAS Y COMPUTACION'\n",
    "dt_s = data[dat_sistemas]\n",
    "print(dt_s['Correo'])\n",
    "\n",
    "        \n",
    "\n"
   ]
  },
  {
   "cell_type": "code",
   "execution_count": 35,
   "metadata": {},
   "outputs": [],
   "source": [
    "def enviar_correo(nombre, correo):\n",
    "    remitente = \"juliandavidgonzalez@ucundinamarca.edu.co\"\n",
    "    destinatario = correo\n",
    "    mensaje = f\"Estimado {nombre}, este es un correo de prueba\"\n",
    "    \n",
    "    # Crear el objeto EmailMessage\n",
    "    email = EmailMessage()\n",
    "    email[\"From\"] = remitente\n",
    "    email[\"To\"] = destinatario\n",
    "    email[\"Subject\"] = \"ALERTA TEMPRANA ACCESO A AULAS CMA DIGITAL\"\n",
    "    email.set_content(mensaje)\n",
    "    \n",
    "    # Conexión al servidor SMTP de Outlook\n",
    "    smtp = smtplib.SMTP(\"smtp-mail.outlook.com\", port=587)\n",
    "    smtp.starttls()  # Iniciar conexión segura\n",
    "    smtp.login(remitente, \"djbl3nd.\")  # Iniciar sesión en el servidor SMTP\n",
    "    smtp.sendmail(remitente, destinatario, email.as_string())  # Enviar correo\n",
    "    smtp.quit()  # Cerrar la conexión\n",
    "    \n",
    "    print(\"Correo enviado\")"
   ]
  },
  {
   "cell_type": "code",
   "execution_count": 36,
   "metadata": {},
   "outputs": [
    {
     "ename": "SMTPAuthenticationError",
     "evalue": "(535, b'5.7.139 Authentication unsuccessful, SmtpClientAuthentication is disabled for the Tenant. Visit https://aka.ms/smtp_auth_disabled for more information. [BN9PR03CA0480.namprd03.prod.outlook.com 2024-08-14T21:31:57.990Z 08DCB921095FBF71]')",
     "output_type": "error",
     "traceback": [
      "\u001b[0;31m---------------------------------------------------------------------------\u001b[0m",
      "\u001b[0;31mSMTPAuthenticationError\u001b[0m                   Traceback (most recent call last)",
      "Cell \u001b[0;32mIn[36], line 1\u001b[0m\n\u001b[0;32m----> 1\u001b[0m \u001b[43menviar_correo\u001b[49m\u001b[43m(\u001b[49m\u001b[38;5;124;43m\"\u001b[39;49m\u001b[38;5;124;43mNicolas Rodriguez\u001b[39;49m\u001b[38;5;124;43m\"\u001b[39;49m\u001b[43m,\u001b[49m\u001b[43m \u001b[49m\u001b[38;5;124;43m'\u001b[39;49m\u001b[38;5;124;43mnicolasrodriguezt@ucundinamarca.edu.co\u001b[39;49m\u001b[38;5;124;43m'\u001b[39;49m\u001b[43m)\u001b[49m\n",
      "Cell \u001b[0;32mIn[35], line 16\u001b[0m, in \u001b[0;36menviar_correo\u001b[0;34m(nombre, correo)\u001b[0m\n\u001b[1;32m     14\u001b[0m smtp \u001b[38;5;241m=\u001b[39m smtplib\u001b[38;5;241m.\u001b[39mSMTP(\u001b[38;5;124m\"\u001b[39m\u001b[38;5;124msmtp-mail.outlook.com\u001b[39m\u001b[38;5;124m\"\u001b[39m, port\u001b[38;5;241m=\u001b[39m\u001b[38;5;241m587\u001b[39m)\n\u001b[1;32m     15\u001b[0m smtp\u001b[38;5;241m.\u001b[39mstarttls()  \u001b[38;5;66;03m# Iniciar conexión segura\u001b[39;00m\n\u001b[0;32m---> 16\u001b[0m \u001b[43msmtp\u001b[49m\u001b[38;5;241;43m.\u001b[39;49m\u001b[43mlogin\u001b[49m\u001b[43m(\u001b[49m\u001b[43mremitente\u001b[49m\u001b[43m,\u001b[49m\u001b[43m \u001b[49m\u001b[38;5;124;43m\"\u001b[39;49m\u001b[38;5;124;43mdjbl3nd.\u001b[39;49m\u001b[38;5;124;43m\"\u001b[39;49m\u001b[43m)\u001b[49m  \u001b[38;5;66;03m# Iniciar sesión en el servidor SMTP\u001b[39;00m\n\u001b[1;32m     17\u001b[0m smtp\u001b[38;5;241m.\u001b[39msendmail(remitente, destinatario, email\u001b[38;5;241m.\u001b[39mas_string())  \u001b[38;5;66;03m# Enviar correo\u001b[39;00m\n\u001b[1;32m     18\u001b[0m smtp\u001b[38;5;241m.\u001b[39mquit()  \u001b[38;5;66;03m# Cerrar la conexión\u001b[39;00m\n",
      "File \u001b[0;32m/usr/lib/python3.12/smtplib.py:750\u001b[0m, in \u001b[0;36mSMTP.login\u001b[0;34m(self, user, password, initial_response_ok)\u001b[0m\n\u001b[1;32m    747\u001b[0m         last_exception \u001b[38;5;241m=\u001b[39m e\n\u001b[1;32m    749\u001b[0m \u001b[38;5;66;03m# We could not login successfully.  Return result of last attempt.\u001b[39;00m\n\u001b[0;32m--> 750\u001b[0m \u001b[38;5;28;01mraise\u001b[39;00m last_exception\n",
      "File \u001b[0;32m/usr/lib/python3.12/smtplib.py:739\u001b[0m, in \u001b[0;36mSMTP.login\u001b[0;34m(self, user, password, initial_response_ok)\u001b[0m\n\u001b[1;32m    737\u001b[0m method_name \u001b[38;5;241m=\u001b[39m \u001b[38;5;124m'\u001b[39m\u001b[38;5;124mauth_\u001b[39m\u001b[38;5;124m'\u001b[39m \u001b[38;5;241m+\u001b[39m authmethod\u001b[38;5;241m.\u001b[39mlower()\u001b[38;5;241m.\u001b[39mreplace(\u001b[38;5;124m'\u001b[39m\u001b[38;5;124m-\u001b[39m\u001b[38;5;124m'\u001b[39m, \u001b[38;5;124m'\u001b[39m\u001b[38;5;124m_\u001b[39m\u001b[38;5;124m'\u001b[39m)\n\u001b[1;32m    738\u001b[0m \u001b[38;5;28;01mtry\u001b[39;00m:\n\u001b[0;32m--> 739\u001b[0m     (code, resp) \u001b[38;5;241m=\u001b[39m \u001b[38;5;28;43mself\u001b[39;49m\u001b[38;5;241;43m.\u001b[39;49m\u001b[43mauth\u001b[49m\u001b[43m(\u001b[49m\n\u001b[1;32m    740\u001b[0m \u001b[43m        \u001b[49m\u001b[43mauthmethod\u001b[49m\u001b[43m,\u001b[49m\u001b[43m \u001b[49m\u001b[38;5;28;43mgetattr\u001b[39;49m\u001b[43m(\u001b[49m\u001b[38;5;28;43mself\u001b[39;49m\u001b[43m,\u001b[49m\u001b[43m \u001b[49m\u001b[43mmethod_name\u001b[49m\u001b[43m)\u001b[49m\u001b[43m,\u001b[49m\n\u001b[1;32m    741\u001b[0m \u001b[43m        \u001b[49m\u001b[43minitial_response_ok\u001b[49m\u001b[38;5;241;43m=\u001b[39;49m\u001b[43minitial_response_ok\u001b[49m\u001b[43m)\u001b[49m\n\u001b[1;32m    742\u001b[0m     \u001b[38;5;66;03m# 235 == 'Authentication successful'\u001b[39;00m\n\u001b[1;32m    743\u001b[0m     \u001b[38;5;66;03m# 503 == 'Error: already authenticated'\u001b[39;00m\n\u001b[1;32m    744\u001b[0m     \u001b[38;5;28;01mif\u001b[39;00m code \u001b[38;5;129;01min\u001b[39;00m (\u001b[38;5;241m235\u001b[39m, \u001b[38;5;241m503\u001b[39m):\n",
      "File \u001b[0;32m/usr/lib/python3.12/smtplib.py:662\u001b[0m, in \u001b[0;36mSMTP.auth\u001b[0;34m(self, mechanism, authobject, initial_response_ok)\u001b[0m\n\u001b[1;32m    660\u001b[0m \u001b[38;5;28;01mif\u001b[39;00m code \u001b[38;5;129;01min\u001b[39;00m (\u001b[38;5;241m235\u001b[39m, \u001b[38;5;241m503\u001b[39m):\n\u001b[1;32m    661\u001b[0m     \u001b[38;5;28;01mreturn\u001b[39;00m (code, resp)\n\u001b[0;32m--> 662\u001b[0m \u001b[38;5;28;01mraise\u001b[39;00m SMTPAuthenticationError(code, resp)\n",
      "\u001b[0;31mSMTPAuthenticationError\u001b[0m: (535, b'5.7.139 Authentication unsuccessful, SmtpClientAuthentication is disabled for the Tenant. Visit https://aka.ms/smtp_auth_disabled for more information. [BN9PR03CA0480.namprd03.prod.outlook.com 2024-08-14T21:31:57.990Z 08DCB921095FBF71]')"
     ]
    }
   ],
   "source": [
    "correo(\"Nicolas Rodriguez\", 'nicolasrodriguezt@ucundinamarca.edu.co')enviar_"
   ]
  }
 ],
 "metadata": {
  "kernelspec": {
   "display_name": "Python 3",
   "language": "python",
   "name": "python3"
  },
  "language_info": {
   "codemirror_mode": {
    "name": "ipython",
    "version": 3
   },
   "file_extension": ".py",
   "mimetype": "text/x-python",
   "name": "python",
   "nbconvert_exporter": "python",
   "pygments_lexer": "ipython3",
   "version": "3.12.2"
  }
 },
 "nbformat": 4,
 "nbformat_minor": 2
}
