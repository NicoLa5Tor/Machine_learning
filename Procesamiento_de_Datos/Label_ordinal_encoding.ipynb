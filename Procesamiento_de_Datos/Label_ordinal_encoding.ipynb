{
 "cells": [
  {
   "cell_type": "markdown",
   "metadata": {},
   "source": [
    "En este caso se usa otro metodo de codificación que se usa para los mismos datos que el one hot encoding\n",
    "pero esta vez en vez de crear mas columnas con los distintos tipos de caractiristicas clasificatorias, se categoriza cada caracteristica con  numeros en escala.\n",
    "\n",
    "Si tenemos un data frame que tiene los datos de tamaño de algo, ojo, deben estar ordenados, tambien se debe tener en cuenta que si no le especifica al codigo como codificar estas variables categoricas o si no por defecto lo hará en orden alfabético. entonces tenemos el data frame con los datos de tamaño y usamos un metodo de las tecnicas de procesamiento de datos, en este caso lo haremos con Label Encoding y con Ordinal Encoding\n",
    "\n",
    "| Tamaño  | Codificado |\n",
    "|---------|------------|\n",
    "| Pequeño | 0          |\n",
    "| Mediano | 1          |\n",
    "| Grande  | 2          |\n",
    "| Pequeño | 0          |\n",
    "| Grande  | 2          |\n"
   ]
  },
  {
   "cell_type": "code",
   "execution_count": 5,
   "metadata": {},
   "outputs": [],
   "source": [
    "import pandas as pd\n",
    "from sklearn.preprocessing import LabelEncoder,OrdinalEncoder"
   ]
  },
  {
   "cell_type": "code",
   "execution_count": 6,
   "metadata": {},
   "outputs": [
    {
     "data": {
      "text/html": [
       "<div>\n",
       "<style scoped>\n",
       "    .dataframe tbody tr th:only-of-type {\n",
       "        vertical-align: middle;\n",
       "    }\n",
       "\n",
       "    .dataframe tbody tr th {\n",
       "        vertical-align: top;\n",
       "    }\n",
       "\n",
       "    .dataframe thead th {\n",
       "        text-align: right;\n",
       "    }\n",
       "</style>\n",
       "<table border=\"1\" class=\"dataframe\">\n",
       "  <thead>\n",
       "    <tr style=\"text-align: right;\">\n",
       "      <th></th>\n",
       "      <th>Ubicacion</th>\n",
       "      <th>Cargo</th>\n",
       "      <th>Departamento</th>\n",
       "    </tr>\n",
       "  </thead>\n",
       "  <tbody>\n",
       "    <tr>\n",
       "      <th>0</th>\n",
       "      <td>Norte</td>\n",
       "      <td>Gerente</td>\n",
       "      <td>Ventas</td>\n",
       "    </tr>\n",
       "    <tr>\n",
       "      <th>1</th>\n",
       "      <td>Sur</td>\n",
       "      <td>Asistente</td>\n",
       "      <td>Marketing</td>\n",
       "    </tr>\n",
       "    <tr>\n",
       "      <th>2</th>\n",
       "      <td>Oeste</td>\n",
       "      <td>Analista</td>\n",
       "      <td>Ventas</td>\n",
       "    </tr>\n",
       "    <tr>\n",
       "      <th>3</th>\n",
       "      <td>Norte</td>\n",
       "      <td>Gerente</td>\n",
       "      <td>RRHH</td>\n",
       "    </tr>\n",
       "  </tbody>\n",
       "</table>\n",
       "</div>"
      ],
      "text/plain": [
       "  Ubicacion      Cargo Departamento\n",
       "0     Norte    Gerente       Ventas\n",
       "1       Sur  Asistente    Marketing\n",
       "2     Oeste   Analista       Ventas\n",
       "3     Norte    Gerente         RRHH"
      ]
     },
     "execution_count": 6,
     "metadata": {},
     "output_type": "execute_result"
    }
   ],
   "source": [
    "data = pd.DataFrame({\n",
    "    \"Ubicacion\" : ['Norte','Sur','Oeste','Norte'],\n",
    "    \"Cargo\" : ['Gerente','Asistente','Analista','Gerente'],\n",
    "    \"Departamento\" : ['Ventas','Marketing','Ventas','RRHH']\n",
    "})\n",
    "data"
   ]
  },
  {
   "cell_type": "code",
   "execution_count": 20,
   "metadata": {},
   "outputs": [
    {
     "data": {
      "text/html": [
       "<div>\n",
       "<style scoped>\n",
       "    .dataframe tbody tr th:only-of-type {\n",
       "        vertical-align: middle;\n",
       "    }\n",
       "\n",
       "    .dataframe tbody tr th {\n",
       "        vertical-align: top;\n",
       "    }\n",
       "\n",
       "    .dataframe thead th {\n",
       "        text-align: right;\n",
       "    }\n",
       "</style>\n",
       "<table border=\"1\" class=\"dataframe\">\n",
       "  <thead>\n",
       "    <tr style=\"text-align: right;\">\n",
       "      <th></th>\n",
       "      <th>Ubicacion</th>\n",
       "      <th>Cargo</th>\n",
       "      <th>Departamento</th>\n",
       "    </tr>\n",
       "  </thead>\n",
       "  <tbody>\n",
       "    <tr>\n",
       "      <th>0</th>\n",
       "      <td>0</td>\n",
       "      <td>2</td>\n",
       "      <td>2</td>\n",
       "    </tr>\n",
       "    <tr>\n",
       "      <th>1</th>\n",
       "      <td>2</td>\n",
       "      <td>1</td>\n",
       "      <td>0</td>\n",
       "    </tr>\n",
       "    <tr>\n",
       "      <th>2</th>\n",
       "      <td>1</td>\n",
       "      <td>0</td>\n",
       "      <td>2</td>\n",
       "    </tr>\n",
       "    <tr>\n",
       "      <th>3</th>\n",
       "      <td>0</td>\n",
       "      <td>2</td>\n",
       "      <td>1</td>\n",
       "    </tr>\n",
       "  </tbody>\n",
       "</table>\n",
       "</div>"
      ],
      "text/plain": [
       "   Ubicacion  Cargo  Departamento\n",
       "0          0      2             2\n",
       "1          2      1             0\n",
       "2          1      0             2\n",
       "3          0      2             1"
      ]
     },
     "execution_count": 20,
     "metadata": {},
     "output_type": "execute_result"
    }
   ],
   "source": [
    "#metodo por Label encoding\n",
    "label = LabelEncoder()\n",
    "enc_data = data.copy()\n",
    "enc_data['Ubicacion'] = label.fit_transform(enc_data['Ubicacion'])\n",
    "enc_data['Cargo'] = label.fit_transform(enc_data['Cargo'])\n",
    "enc_data['Departamento'] = label.fit_transform(enc_data['Departamento'])\n",
    "enc_data"
   ]
  },
  {
   "cell_type": "markdown",
   "metadata": {},
   "source": [
    "Como se puede observar, no le especificamos al codigo como debia tratar los datos de categorización entonces los trató en orden alfabético, por ejemplo en ubicacion dejó Norte como 0 porque es el N es la primera letra del alfabato entre las que existen en ubicacion, es por ello que la siguiente es oeste"
   ]
  },
  {
   "cell_type": "code",
   "execution_count": 14,
   "metadata": {},
   "outputs": [
    {
     "data": {
      "text/html": [
       "<div>\n",
       "<style scoped>\n",
       "    .dataframe tbody tr th:only-of-type {\n",
       "        vertical-align: middle;\n",
       "    }\n",
       "\n",
       "    .dataframe tbody tr th {\n",
       "        vertical-align: top;\n",
       "    }\n",
       "\n",
       "    .dataframe thead th {\n",
       "        text-align: right;\n",
       "    }\n",
       "</style>\n",
       "<table border=\"1\" class=\"dataframe\">\n",
       "  <thead>\n",
       "    <tr style=\"text-align: right;\">\n",
       "      <th></th>\n",
       "      <th>Ubicacion</th>\n",
       "      <th>Cargo</th>\n",
       "      <th>Departamento</th>\n",
       "    </tr>\n",
       "  </thead>\n",
       "  <tbody>\n",
       "    <tr>\n",
       "      <th>0</th>\n",
       "      <td>0.0</td>\n",
       "      <td>2.0</td>\n",
       "      <td>2.0</td>\n",
       "    </tr>\n",
       "    <tr>\n",
       "      <th>1</th>\n",
       "      <td>2.0</td>\n",
       "      <td>1.0</td>\n",
       "      <td>0.0</td>\n",
       "    </tr>\n",
       "    <tr>\n",
       "      <th>2</th>\n",
       "      <td>1.0</td>\n",
       "      <td>0.0</td>\n",
       "      <td>2.0</td>\n",
       "    </tr>\n",
       "    <tr>\n",
       "      <th>3</th>\n",
       "      <td>0.0</td>\n",
       "      <td>2.0</td>\n",
       "      <td>1.0</td>\n",
       "    </tr>\n",
       "  </tbody>\n",
       "</table>\n",
       "</div>"
      ],
      "text/plain": [
       "   Ubicacion  Cargo  Departamento\n",
       "0        0.0    2.0           2.0\n",
       "1        2.0    1.0           0.0\n",
       "2        1.0    0.0           2.0\n",
       "3        0.0    2.0           1.0"
      ]
     },
     "execution_count": 14,
     "metadata": {},
     "output_type": "execute_result"
    }
   ],
   "source": [
    "#metodo ordinal Encoding\n",
    "ordinal = OrdinalEncoder()\n",
    "ordinal_data = data.copy()\n",
    "ordinal_data[['Cargo','Departamento','Ubicacion']] = ordinal.fit_transform(ordinal_data[['Cargo','Departamento','Ubicacion']] )\n",
    "ordinal_data"
   ]
  },
  {
   "cell_type": "markdown",
   "metadata": {},
   "source": [
    "AL usar el metodo ordinal encodig nos ahorramos lineas de codigo y hacemos lo mismo que con el Label encoding, auque ambos sirven casi para lo mismo, se suele usar mas el label encodign pora trasformar datos con orden no intrinseco, y el ordinal encodign cuando los datos tienen ordin intrinseco"
   ]
  },
  {
   "cell_type": "code",
   "execution_count": 25,
   "metadata": {},
   "outputs": [],
   "source": [
    "#método sin  librerias \n",
    "def encoder(data,columns):\n",
    "    for column in columns:\n",
    "        unique_values = data[column].unique()\n",
    "        value_for_item = { value : i for i, value in enumerate(unique_values)}\n",
    "        data[column + \"Encode\"] = data[column].replace(value_for_item)\n",
    "    return data"
   ]
  },
  {
   "cell_type": "code",
   "execution_count": 26,
   "metadata": {},
   "outputs": [
    {
     "name": "stderr",
     "output_type": "stream",
     "text": [
      "/tmp/ipykernel_108504/3160018953.py:6: FutureWarning: Downcasting behavior in `replace` is deprecated and will be removed in a future version. To retain the old behavior, explicitly call `result.infer_objects(copy=False)`. To opt-in to the future behavior, set `pd.set_option('future.no_silent_downcasting', True)`\n",
      "  data[column + \"Encode\"] = data[column].replace(value_for_item)\n",
      "/tmp/ipykernel_108504/3160018953.py:6: FutureWarning: Downcasting behavior in `replace` is deprecated and will be removed in a future version. To retain the old behavior, explicitly call `result.infer_objects(copy=False)`. To opt-in to the future behavior, set `pd.set_option('future.no_silent_downcasting', True)`\n",
      "  data[column + \"Encode\"] = data[column].replace(value_for_item)\n",
      "/tmp/ipykernel_108504/3160018953.py:6: FutureWarning: Downcasting behavior in `replace` is deprecated and will be removed in a future version. To retain the old behavior, explicitly call `result.infer_objects(copy=False)`. To opt-in to the future behavior, set `pd.set_option('future.no_silent_downcasting', True)`\n",
      "  data[column + \"Encode\"] = data[column].replace(value_for_item)\n"
     ]
    },
    {
     "data": {
      "text/html": [
       "<div>\n",
       "<style scoped>\n",
       "    .dataframe tbody tr th:only-of-type {\n",
       "        vertical-align: middle;\n",
       "    }\n",
       "\n",
       "    .dataframe tbody tr th {\n",
       "        vertical-align: top;\n",
       "    }\n",
       "\n",
       "    .dataframe thead th {\n",
       "        text-align: right;\n",
       "    }\n",
       "</style>\n",
       "<table border=\"1\" class=\"dataframe\">\n",
       "  <thead>\n",
       "    <tr style=\"text-align: right;\">\n",
       "      <th></th>\n",
       "      <th>Ubicacion</th>\n",
       "      <th>Cargo</th>\n",
       "      <th>Departamento</th>\n",
       "      <th>CargoEncode</th>\n",
       "      <th>DepartamentoEncode</th>\n",
       "      <th>UbicacionEncode</th>\n",
       "    </tr>\n",
       "  </thead>\n",
       "  <tbody>\n",
       "    <tr>\n",
       "      <th>0</th>\n",
       "      <td>Norte</td>\n",
       "      <td>Gerente</td>\n",
       "      <td>Ventas</td>\n",
       "      <td>0</td>\n",
       "      <td>0</td>\n",
       "      <td>0</td>\n",
       "    </tr>\n",
       "    <tr>\n",
       "      <th>1</th>\n",
       "      <td>Sur</td>\n",
       "      <td>Asistente</td>\n",
       "      <td>Marketing</td>\n",
       "      <td>1</td>\n",
       "      <td>1</td>\n",
       "      <td>1</td>\n",
       "    </tr>\n",
       "    <tr>\n",
       "      <th>2</th>\n",
       "      <td>Oeste</td>\n",
       "      <td>Analista</td>\n",
       "      <td>Ventas</td>\n",
       "      <td>2</td>\n",
       "      <td>0</td>\n",
       "      <td>2</td>\n",
       "    </tr>\n",
       "    <tr>\n",
       "      <th>3</th>\n",
       "      <td>Norte</td>\n",
       "      <td>Gerente</td>\n",
       "      <td>RRHH</td>\n",
       "      <td>0</td>\n",
       "      <td>2</td>\n",
       "      <td>0</td>\n",
       "    </tr>\n",
       "  </tbody>\n",
       "</table>\n",
       "</div>"
      ],
      "text/plain": [
       "  Ubicacion      Cargo Departamento  CargoEncode  DepartamentoEncode  \\\n",
       "0     Norte    Gerente       Ventas            0                   0   \n",
       "1       Sur  Asistente    Marketing            1                   1   \n",
       "2     Oeste   Analista       Ventas            2                   0   \n",
       "3     Norte    Gerente         RRHH            0                   2   \n",
       "\n",
       "   UbicacionEncode  \n",
       "0                0  \n",
       "1                1  \n",
       "2                2  \n",
       "3                0  "
      ]
     },
     "execution_count": 26,
     "metadata": {},
     "output_type": "execute_result"
    }
   ],
   "source": [
    "enc = encoder(data=data,columns=['Cargo','Departamento','Ubicacion'])\n",
    "enc"
   ]
  }
 ],
 "metadata": {
  "kernelspec": {
   "display_name": "env",
   "language": "python",
   "name": "python3"
  },
  "language_info": {
   "codemirror_mode": {
    "name": "ipython",
    "version": 3
   },
   "file_extension": ".py",
   "mimetype": "text/x-python",
   "name": "python",
   "nbconvert_exporter": "python",
   "pygments_lexer": "ipython3",
   "version": "3.11.9"
  }
 },
 "nbformat": 4,
 "nbformat_minor": 2
}
